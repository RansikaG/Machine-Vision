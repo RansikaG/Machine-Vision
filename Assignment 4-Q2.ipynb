{
 "metadata": {
  "language_info": {
   "codemirror_mode": {
    "name": "ipython",
    "version": 3
   },
   "file_extension": ".py",
   "mimetype": "text/x-python",
   "name": "python",
   "nbconvert_exporter": "python",
   "pygments_lexer": "ipython3",
   "version": "3.7.10-final"
  },
  "orig_nbformat": 2,
  "kernelspec": {
   "name": "python3",
   "display_name": "Python 3",
   "language": "python"
  }
 },
 "nbformat": 4,
 "nbformat_minor": 2,
 "cells": [
  {
   "cell_type": "code",
   "execution_count": 1,
   "metadata": {},
   "outputs": [],
   "source": [
    "def sigmoid(z):\n",
    "    z=np.array(z)\n",
    "    sigmoid=np.array(1./(1+np.exp(-z)), dtype=np.float64)\n",
    "    return sigmoid"
   ]
  },
  {
   "cell_type": "code",
   "execution_count": 2,
   "metadata": {},
   "outputs": [],
   "source": [
    "def forward_prop(X,Y,b1,W1,W2,b2,reg):\n",
    "    Z=np.dot(X,W1)+np.transpose(b1)\n",
    "    A=sigmoid(Z)\n",
    "    y_hat=np.dot(A,W2)+np.transpose(b2)\n",
    "    m=X.shape[0]\n",
    "    mse =1/m* np.sum(np.square((Y - y_hat)**2))\n",
    "    Loss=mse+ reg*(np.sum(W1**2)+np.sum(W2**2))\n",
    "    cache={\"y_hat\":y_hat,\"Z\":Z,\"A\":A}\n",
    "    return Loss,cache"
   ]
  },
  {
   "cell_type": "code",
   "execution_count": 3,
   "metadata": {},
   "outputs": [],
   "source": [
    "\n",
    "def back_prop(X,Y,W1,W2,b1,b2,cache,reg):\n",
    "    m=Y.shape[0]\n",
    "    y_hat=cache[\"y_hat\"]\n",
    "    A=cache[\"A\"]\n",
    "    Z=cache[\"Z\"]\n",
    "    dy_hat =1/m*2*(y_hat-Y)\n",
    "    dW2=np.dot(A.T,dy_hat) + reg*W2\n",
    "    db2 =np.sum(dy_hat,axis=0)\n",
    "    dA = np.dot(y_hat,W2.T)\n",
    "    dZ = dA *A*(1-A)\n",
    "    dW1 =np.dot(X.T, dZ)+reg*W1\n",
    "    db1=np.sum(dZ,axis=0)\n",
    "    gradients={\"dW1\":dW1,\"db1\":db1,\"dW2\":dW2,\"db2\":db2}\n",
    "    return gradients"
   ]
  },
  {
   "cell_type": "code",
   "execution_count": 4,
   "metadata": {},
   "outputs": [],
   "source": [
    "def accuracy(y_hat,y):\n",
    "    y_hat = np.argmax(y_hat,axis=1)\n",
    "    y= np.argmax(y,axis=1)\n",
    "    accuracy=np.sum(y_hat==y)/y.size \n",
    "    return accuracy"
   ]
  },
  {
   "cell_type": "code",
   "execution_count": 5,
   "metadata": {},
   "outputs": [
    {
     "output_type": "stream",
     "name": "stdout",
     "text": [
      "x_train: (50000, 32, 32, 3)\n",
      "W1: (3072, 200)\n",
      "b1: (200,)\n",
      "W2: (200, 10)\n",
      "b2: (10,)\n",
      "ipykernel_launcher:3: RuntimeWarning: overflow encountered in exp\n",
      "Epoch 1/300>>> trainig_loss:  1.0020726469802916 >>training_accuracy:  0.0868 >>testing_loss: 1.0021412291726788 >>>testing_accuracy: 0.0843\n",
      "Epoch 11/300>>> trainig_loss:  0.5873830303979419 >>training_accuracy:  0.24378 >>testing_loss: 0.5869873248662817 >>>testing_accuracy: 0.2486\n",
      "Epoch 21/300>>> trainig_loss:  0.5707489248002308 >>training_accuracy:  0.2616 >>testing_loss: 0.570426765255192 >>>testing_accuracy: 0.2645\n",
      "Epoch 31/300>>> trainig_loss:  0.5620343545431792 >>training_accuracy:  0.271 >>testing_loss: 0.561824740197388 >>>testing_accuracy: 0.2717\n",
      "Epoch 41/300>>> trainig_loss:  0.5562316904898764 >>training_accuracy:  0.27782 >>testing_loss: 0.5561676996319591 >>>testing_accuracy: 0.2796\n",
      "Epoch 51/300>>> trainig_loss:  0.5519998207957313 >>training_accuracy:  0.28282 >>testing_loss: 0.5520937508485914 >>>testing_accuracy: 0.2844\n",
      "Epoch 61/300>>> trainig_loss:  0.5487364687681855 >>training_accuracy:  0.28682 >>testing_loss: 0.5489891881631573 >>>testing_accuracy: 0.2884\n"
     ]
    },
    {
     "output_type": "error",
     "ename": "KeyboardInterrupt",
     "evalue": "",
     "traceback": [
      "\u001b[1;31m---------------------------------------------------------------------------\u001b[0m",
      "\u001b[1;31mKeyboardInterrupt\u001b[0m                         Traceback (most recent call last)",
      "\u001b[1;32m<ipython-input-5-cfd3f9ee8714>\u001b[0m in \u001b[0;36m<module>\u001b[1;34m\u001b[0m\n\u001b[0;32m     52\u001b[0m \u001b[1;33m\u001b[0m\u001b[0m\n\u001b[0;32m     53\u001b[0m     \u001b[1;31m# Forward pass\u001b[0m\u001b[1;33m\u001b[0m\u001b[1;33m\u001b[0m\u001b[1;33m\u001b[0m\u001b[0m\n\u001b[1;32m---> 54\u001b[1;33m     \u001b[0mloss\u001b[0m\u001b[1;33m,\u001b[0m\u001b[0mcache\u001b[0m\u001b[1;33m=\u001b[0m\u001b[0mforward_prop\u001b[0m\u001b[1;33m(\u001b[0m\u001b[0mW1\u001b[0m\u001b[1;33m=\u001b[0m\u001b[0mW1\u001b[0m\u001b[1;33m,\u001b[0m\u001b[0mb1\u001b[0m\u001b[1;33m=\u001b[0m\u001b[0mb1\u001b[0m\u001b[1;33m,\u001b[0m\u001b[0mW2\u001b[0m\u001b[1;33m=\u001b[0m\u001b[0mW2\u001b[0m\u001b[1;33m,\u001b[0m\u001b[0mb2\u001b[0m\u001b[1;33m=\u001b[0m\u001b[0mb2\u001b[0m\u001b[1;33m,\u001b[0m\u001b[0mX\u001b[0m\u001b[1;33m=\u001b[0m\u001b[0mx_train\u001b[0m\u001b[1;33m,\u001b[0m\u001b[0mY\u001b[0m\u001b[1;33m=\u001b[0m\u001b[0my_train\u001b[0m\u001b[1;33m,\u001b[0m\u001b[0mreg\u001b[0m\u001b[1;33m=\u001b[0m\u001b[0mreg\u001b[0m\u001b[1;33m)\u001b[0m\u001b[1;33m\u001b[0m\u001b[1;33m\u001b[0m\u001b[0m\n\u001b[0m\u001b[0;32m     55\u001b[0m     \u001b[0mtrain_acc\u001b[0m\u001b[1;33m=\u001b[0m\u001b[0maccuracy\u001b[0m\u001b[1;33m(\u001b[0m\u001b[0mcache\u001b[0m\u001b[1;33m[\u001b[0m\u001b[1;34m\"y_hat\"\u001b[0m\u001b[1;33m]\u001b[0m\u001b[1;33m,\u001b[0m\u001b[0my_train\u001b[0m\u001b[1;33m)\u001b[0m\u001b[1;33m\u001b[0m\u001b[1;33m\u001b[0m\u001b[0m\n\u001b[0;32m     56\u001b[0m     \u001b[0mtrain_acc_history\u001b[0m\u001b[1;33m.\u001b[0m\u001b[0mappend\u001b[0m\u001b[1;33m(\u001b[0m\u001b[0mtrain_acc\u001b[0m\u001b[1;33m)\u001b[0m\u001b[1;33m\u001b[0m\u001b[1;33m\u001b[0m\u001b[0m\n",
      "\u001b[1;32m<ipython-input-2-05e63030ff7f>\u001b[0m in \u001b[0;36mforward_prop\u001b[1;34m(X, Y, b1, W1, W2, b2, reg)\u001b[0m\n\u001b[0;32m      1\u001b[0m \u001b[1;32mdef\u001b[0m \u001b[0mforward_prop\u001b[0m\u001b[1;33m(\u001b[0m\u001b[0mX\u001b[0m\u001b[1;33m,\u001b[0m\u001b[0mY\u001b[0m\u001b[1;33m,\u001b[0m\u001b[0mb1\u001b[0m\u001b[1;33m,\u001b[0m\u001b[0mW1\u001b[0m\u001b[1;33m,\u001b[0m\u001b[0mW2\u001b[0m\u001b[1;33m,\u001b[0m\u001b[0mb2\u001b[0m\u001b[1;33m,\u001b[0m\u001b[0mreg\u001b[0m\u001b[1;33m)\u001b[0m\u001b[1;33m:\u001b[0m\u001b[1;33m\u001b[0m\u001b[1;33m\u001b[0m\u001b[0m\n\u001b[1;32m----> 2\u001b[1;33m     \u001b[0mZ\u001b[0m\u001b[1;33m=\u001b[0m\u001b[0mnp\u001b[0m\u001b[1;33m.\u001b[0m\u001b[0mdot\u001b[0m\u001b[1;33m(\u001b[0m\u001b[0mX\u001b[0m\u001b[1;33m,\u001b[0m\u001b[0mW1\u001b[0m\u001b[1;33m)\u001b[0m\u001b[1;33m+\u001b[0m\u001b[0mnp\u001b[0m\u001b[1;33m.\u001b[0m\u001b[0mtranspose\u001b[0m\u001b[1;33m(\u001b[0m\u001b[0mb1\u001b[0m\u001b[1;33m)\u001b[0m\u001b[1;33m\u001b[0m\u001b[1;33m\u001b[0m\u001b[0m\n\u001b[0m\u001b[0;32m      3\u001b[0m     \u001b[0mA\u001b[0m\u001b[1;33m=\u001b[0m\u001b[0msigmoid\u001b[0m\u001b[1;33m(\u001b[0m\u001b[0mZ\u001b[0m\u001b[1;33m)\u001b[0m\u001b[1;33m\u001b[0m\u001b[1;33m\u001b[0m\u001b[0m\n\u001b[0;32m      4\u001b[0m     \u001b[0my_hat\u001b[0m\u001b[1;33m=\u001b[0m\u001b[0mnp\u001b[0m\u001b[1;33m.\u001b[0m\u001b[0mdot\u001b[0m\u001b[1;33m(\u001b[0m\u001b[0mA\u001b[0m\u001b[1;33m,\u001b[0m\u001b[0mW2\u001b[0m\u001b[1;33m)\u001b[0m\u001b[1;33m+\u001b[0m\u001b[0mnp\u001b[0m\u001b[1;33m.\u001b[0m\u001b[0mtranspose\u001b[0m\u001b[1;33m(\u001b[0m\u001b[0mb2\u001b[0m\u001b[1;33m)\u001b[0m\u001b[1;33m\u001b[0m\u001b[1;33m\u001b[0m\u001b[0m\n\u001b[0;32m      5\u001b[0m     \u001b[0mm\u001b[0m\u001b[1;33m=\u001b[0m\u001b[0mX\u001b[0m\u001b[1;33m.\u001b[0m\u001b[0mshape\u001b[0m\u001b[1;33m[\u001b[0m\u001b[1;36m0\u001b[0m\u001b[1;33m]\u001b[0m\u001b[1;33m\u001b[0m\u001b[1;33m\u001b[0m\u001b[0m\n",
      "\u001b[1;32m<__array_function__ internals>\u001b[0m in \u001b[0;36mdot\u001b[1;34m(*args, **kwargs)\u001b[0m\n",
      "\u001b[1;31mKeyboardInterrupt\u001b[0m: "
     ]
    }
   ],
   "source": [
    "import tensorflow as tf\n",
    "from tensorflow import keras\n",
    "import numpy as np\n",
    "import matplotlib.pyplot as plt\n",
    "(x_train, y_train), (x_test, y_test) = keras.datasets.cifar10.load_data()\n",
    "print('x_train:' , x_train.shape)\n",
    "H=200#no of hidden layers\n",
    "K = len(np.unique(y_train)) # Classes\n",
    "Ntr = x_train.shape[0]\n",
    "Nte = x_test.shape[0]\n",
    "Din = 3072 # CIFAR10\n",
    "# Din = 784 # MINIST\n",
    "# Normalize pixel values\n",
    "\n",
    "mean_image = np.mean(x_train, axis=0)\n",
    "x_train = x_train - mean_image\n",
    "x_test = x_test - mean_image\n",
    "\n",
    "y_train = tf.keras.utils.to_categorical(y_train, num_classes=K)\n",
    "y_test = tf.keras.utils.to_categorical(y_test, num_classes=K)\n",
    "x_train = np.reshape(x_train,(Ntr,Din))#shaping images into a vector Din=32x32x3\n",
    "x_test = np.reshape(x_test,(Nte,Din))\n",
    "x_train = x_train.astype('float64')\n",
    "x_test = x_test.astype('float64')\n",
    "std=1e-3\n",
    "W1 = std*np.random.randn(Din, H)#W1 initialization\n",
    "b1 = np.zeros(H)#b1 initialization\n",
    "W2 = std*np.random.randn(H, K)#W2 initialization\n",
    "b2 = np.zeros(K)#b2 initialization\n",
    "print(\"W1:\", W1.shape)\n",
    "print(\"b1:\", b1.shape)\n",
    "print(\"W2:\", W2.shape)\n",
    "print(\"b2:\", b2.shape)\n",
    "batch_size = Ntr #for the batch size whole dataset is considered\n",
    "\n",
    "iterations =300\n",
    "lr =0.015\n",
    "lr_decay=0.9999#learning rate is decreased in each iteration\n",
    "reg =1e-5#regularization term which stops growth of weights\n",
    "train_loss_history = []\n",
    "test_loss_history=[]\n",
    "train_acc_history = []\n",
    "test_acc_history = []\n",
    "\n",
    "seed = 0\n",
    "rng = np.random.default_rng(seed=seed)\n",
    "for t in range(iterations):\n",
    "    indices = np.arange(Ntr)#generating image\n",
    "    rng.shuffle(indices)\n",
    "    x_train=x_train[indices]*255\n",
    "    y_train=y_train[indices]\n",
    "    \n",
    "    # Forward pass\n",
    "    loss,cache=forward_prop(W1=W1,b1=b1,W2=W2,b2=b2,X=x_train,Y=y_train,reg=reg)\n",
    "    train_acc=accuracy(cache[\"y_hat\"],y_train)\n",
    "    train_acc_history.append(train_acc)\n",
    "    train_loss_history.append(loss)\n",
    "\n",
    "    test_loss,test_cache=forward_prop(X=x_test,Y=y_test,W1=W1,b1=b1,W2=W2,b2=b2,reg=reg)\n",
    "    test_acc=accuracy(test_cache[\"y_hat\"],y_test)\n",
    "    test_acc_history.append(test_acc)\n",
    "    test_loss_history.append(test_loss)\n",
    "\n",
    "    if t%10==0:\n",
    "        print(\"Epoch \"+str(t+1)+\"/\"+str(iterations)+\">>> trainig_loss: \",loss,\">>training_accuracy: \",train_acc,\">>testing_loss:\",test_loss,\">>>testing_accuracy:\",test_acc)\n",
    "\n",
    "    # Backward pass\n",
    "    gradients=back_prop(X=x_train,Y=y_train,W1=W1,W2=W2,b1=b1,b2=b2,cache=cache,reg=reg)\n",
    "    dW1=gradients[\"dW1\"]\n",
    "    db1=gradients[\"db1\"]\n",
    "    dW2=gradients[\"dW2\"]\n",
    "    db2=gradients[\"db2\"]\n",
    "\n",
    "    W1-=lr*dW1\n",
    "    b1-=lr*b1\n",
    "    W2-=lr*dW2\n",
    "    b2-=lr*db2\n",
    "    lr*=lr_decay\n",
    "\n"
   ]
  },
  {
   "cell_type": "code",
   "execution_count": null,
   "metadata": {},
   "outputs": [],
   "source": []
  }
 ]
}