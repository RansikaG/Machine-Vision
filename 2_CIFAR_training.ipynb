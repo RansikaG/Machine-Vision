{
  "nbformat": 4,
  "nbformat_minor": 0,
  "metadata": {
    "colab": {
      "name": "2 - CIFAR training.ipynb",
      "provenance": [],
      "toc_visible": true,
      "include_colab_link": true
    },
    "kernelspec": {
      "name": "python3",
      "display_name": "Python 3"
    },
    "language_info": {
      "name": "python"
    },
    "accelerator": "TPU"
  },
  "cells": [
    {
      "cell_type": "markdown",
      "metadata": {
        "id": "view-in-github",
        "colab_type": "text"
      },
      "source": [
        "<a href=\"https://colab.research.google.com/github/RansikaG/EN2550---Machine-Vision/blob/main/2_CIFAR_training.ipynb\" target=\"_parent\"><img src=\"https://colab.research.google.com/assets/colab-badge.svg\" alt=\"Open In Colab\"/></a>"
      ]
    },
    {
      "cell_type": "code",
      "metadata": {
        "id": "_DG1v2HsRZnf"
      },
      "source": [
        "import os\n",
        "import datetime\n",
        "import tensorflow as tf\n",
        "import tensorflow_datasets as tfds\n",
        "from matplotlib import pyplot as plt\n",
        "from tensorflow.keras import layers"
      ],
      "execution_count": null,
      "outputs": []
    },
    {
      "cell_type": "markdown",
      "metadata": {
        "id": "h6qrB7jib14T"
      },
      "source": [
        "Load the dataset"
      ]
    },
    {
      "cell_type": "code",
      "metadata": {
        "id": "qjtMZ0sGReWX"
      },
      "source": [
        "(x, y), (x_test, y_test) = tf.keras.datasets.cifar10.load_data()"
      ],
      "execution_count": null,
      "outputs": []
    },
    {
      "cell_type": "code",
      "metadata": {
        "id": "VxTQAWnRhhZx"
      },
      "source": [
        "print(x.shape)\n",
        "print(x_test.shape)"
      ],
      "execution_count": null,
      "outputs": []
    },
    {
      "cell_type": "code",
      "metadata": {
        "id": "LBbZYccahnrA"
      },
      "source": [
        "plt.imshow(x_train[1])"
      ],
      "execution_count": null,
      "outputs": []
    },
    {
      "cell_type": "markdown",
      "metadata": {
        "id": "h-WoAUuvb9pL"
      },
      "source": [
        "Create a validation set"
      ]
    },
    {
      "cell_type": "code",
      "metadata": {
        "id": "lbHx_EwKb75q"
      },
      "source": [
        "n_train = 40000\n",
        "x_train, y_train = x[:n_train], y[:n_train]\n",
        "x_val, y_val = x[n_train:], y[n_train:]"
      ],
      "execution_count": null,
      "outputs": []
    },
    {
      "cell_type": "markdown",
      "metadata": {
        "id": "Ty5DtuO3hGQW"
      },
      "source": [
        "Normalize the datasets"
      ]
    },
    {
      "cell_type": "code",
      "metadata": {
        "id": "1J_quCGfSYi4"
      },
      "source": [
        ""
      ],
      "execution_count": null,
      "outputs": []
    },
    {
      "cell_type": "code",
      "metadata": {
        "id": "b1jpoZzRSlB-"
      },
      "source": [
        "img_width, img_height = 32, 32\n",
        "num_classes = 10\n",
        "input_shape = (img_width, img_height, 3)\n",
        "\n",
        "model = tf.keras.Sequential([\n",
        "  layers.Conv2D(32, (3, 3), activation='relu', input_shape=input_shape),\n",
        "  layers.MaxPool2D(pool_size=(2, 2)),\n",
        "  layers.Conv2D(32, (3, 3)),\n",
        "  layers.MaxPool2D(pool_size=(2, 2)),\n",
        "\n",
        "  layers.Conv2D(64, (3, 3), activation='relu'),\n",
        "  layers.MaxPool2D(pool_size=(2, 2)),\n",
        "  layers.Flatten(),\n",
        "  layers.Dense(64, activation='relu'),\n",
        "  layers.Dense(64, activation='relu'),\n",
        "\n",
        "  layers.Dense(num_classes, activation=None)\n",
        "])"
      ],
      "execution_count": null,
      "outputs": []
    },
    {
      "cell_type": "code",
      "metadata": {
        "id": "TwBJ7XQuVBkd"
      },
      "source": [
        "optimizer = tf.keras.optimizers.SGD(learning_rate=0.001, momentum=0.9)"
      ],
      "execution_count": null,
      "outputs": []
    },
    {
      "cell_type": "code",
      "metadata": {
        "id": "tXJF3_I0ULAt"
      },
      "source": [
        "model.compile(\n",
        "    loss=tf.keras.losses.SparseCategoricalCrossentropy(from_logits=True),\n",
        "    optimizer=optimizer,\n",
        "    metrics=['accuracy']\n",
        ")"
      ],
      "execution_count": null,
      "outputs": []
    },
    {
      "cell_type": "code",
      "metadata": {
        "id": "QNUTM8k3bzF7"
      },
      "source": [
        "%load_ext tensorboard"
      ],
      "execution_count": null,
      "outputs": []
    },
    {
      "cell_type": "code",
      "metadata": {
        "id": "EkG6qZDgVKEY"
      },
      "source": [
        "logdir = os.path.join(\"logs\", datetime.datetime.now().strftime(\"%Y%m%d-%H%M%S\"))\n",
        "tensorboard_callback = tf.keras.callbacks.TensorBoard(logdir, histogram_freq=1)\n",
        "\n",
        "model.fit(x=x_train, y=y_train, batch_size=32, epochs=5, validation_data=(x_val, y_val), callbacks=[tensorboard_callback])"
      ],
      "execution_count": null,
      "outputs": []
    },
    {
      "cell_type": "code",
      "metadata": {
        "id": "7JjNK8JpW3e0"
      },
      "source": [
        "%tensorboard --logdir logs"
      ],
      "execution_count": null,
      "outputs": []
    },
    {
      "cell_type": "code",
      "metadata": {
        "id": "HrFc_o1rh3ON"
      },
      "source": [
        "import tensorflow as tf\n",
        "from tensorflow.keras.layers import Conv2D, MaxPool2D, Flatten, Dense\n",
        "\n",
        "model = tf.keras.Sequential([\n",
        "  Conv2D(64, (3,3), padding=\"same\", activation=\"relu\"), \n",
        "  Conv2D(64,(3,3),padding=\"same\", activation=\"relu\"),\n",
        "  MaxPool2D(2, 2),\n",
        "  Conv2D(128, (3,3), padding=\"same\", activation=\"relu\"),\n",
        "  Conv2D(128, (3,3), padding=\"same\", activation=\"relu\"),\n",
        "  MaxPool2D(2, 2),\n",
        "  Conv2D(256, (3,3), padding=\"same\", activation=\"relu\"),\n",
        "  Conv2D(256, (3,3), padding=\"same\", activation=\"relu\"),\n",
        "  Conv2D(256, (3,3), padding=\"same\", activation=\"relu\"),\n",
        "  MaxPool2D(2, 2),\n",
        "  Conv2D(512, (3,3), padding=\"same\", activation=\"relu\"),\n",
        "  Conv2D(512, (3,3), padding=\"same\", activation=\"relu\"),\n",
        "  Conv2D(512, (3,3), padding=\"same\", activation=\"relu\"),\n",
        "  MaxPool2D(2, 2),\n",
        "  Conv2D(512, (3,3), padding=\"same\", activation=\"relu\"),\n",
        "  Conv2D(512, (3,3), padding=\"same\", activation=\"relu\"),\n",
        "  Conv2D(512, (3,3), padding=\"same\", activation=\"relu\"),\n",
        "  MaxPool2D(2, 2),\n",
        "  Flatten(),\n",
        "  Dense(4096,activation=\"relu\"),\n",
        "  Dense(4096,activation=\"relu\"),\n",
        "  Dense(1000, activation=\"softmax\")\n",
        "])"
      ],
      "execution_count": null,
      "outputs": []
    },
    {
      "cell_type": "code",
      "metadata": {
        "id": "5_t-RXcgJIG8"
      },
      "source": [
        ""
      ],
      "execution_count": null,
      "outputs": []
    }
  ]
}