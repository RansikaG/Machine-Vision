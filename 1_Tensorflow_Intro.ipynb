{
  "nbformat": 4,
  "nbformat_minor": 0,
  "metadata": {
    "colab": {
      "name": "1 - Tensorflow Intro.ipynb",
      "provenance": [],
      "collapsed_sections": [],
      "include_colab_link": true
    },
    "kernelspec": {
      "name": "python3",
      "display_name": "Python 3"
    },
    "language_info": {
      "name": "python"
    }
  },
  "cells": [
    {
      "cell_type": "markdown",
      "metadata": {
        "id": "view-in-github",
        "colab_type": "text"
      },
      "source": [
        "<a href=\"https://colab.research.google.com/github/RansikaG/EN2550---Machine-Vision/blob/main/1_Tensorflow_Intro.ipynb\" target=\"_parent\"><img src=\"https://colab.research.google.com/assets/colab-badge.svg\" alt=\"Open In Colab\"/></a>"
      ]
    },
    {
      "cell_type": "code",
      "metadata": {
        "id": "6TrehI3pWj5O"
      },
      "source": [
        "import numpy as np\n",
        "import tensorflow as tf"
      ],
      "execution_count": 1,
      "outputs": []
    },
    {
      "cell_type": "code",
      "metadata": {
        "id": "h8F8AbbUWox5"
      },
      "source": [
        "x = tf.Variable(3.0)"
      ],
      "execution_count": 2,
      "outputs": []
    },
    {
      "cell_type": "code",
      "metadata": {
        "id": "Us7AOK2sW5Mu"
      },
      "source": [
        "with tf.GradientTape() as tape:\n",
        "  y = x * x"
      ],
      "execution_count": 3,
      "outputs": []
    },
    {
      "cell_type": "code",
      "metadata": {
        "id": "Cq4_-TzLXCJ9",
        "outputId": "8aacecdc-54c4-48ce-a1e8-5fe1e2dd3244",
        "colab": {
          "base_uri": "https://localhost:8080/"
        }
      },
      "source": [
        "y"
      ],
      "execution_count": 4,
      "outputs": [
        {
          "output_type": "execute_result",
          "data": {
            "text/plain": [
              "<tf.Tensor: shape=(), dtype=float32, numpy=9.0>"
            ]
          },
          "metadata": {
            "tags": []
          },
          "execution_count": 4
        }
      ]
    },
    {
      "cell_type": "code",
      "metadata": {
        "id": "QLrhUPtJXEf9",
        "outputId": "64e970e0-64c5-4dad-cabc-42b31b2e8c18",
        "colab": {
          "base_uri": "https://localhost:8080/"
        }
      },
      "source": [
        "tape.gradient(y, x)"
      ],
      "execution_count": 5,
      "outputs": [
        {
          "output_type": "execute_result",
          "data": {
            "text/plain": [
              "<tf.Tensor: shape=(), dtype=float32, numpy=6.0>"
            ]
          },
          "metadata": {
            "tags": []
          },
          "execution_count": 5
        }
      ]
    },
    {
      "cell_type": "code",
      "metadata": {
        "id": "KqWlmCKhXJt7"
      },
      "source": [
        "x = tf.Variable([\n",
        "  [1.0, -1.0, 2.0, 4.0],\n",
        "  [-2.0, 3.0, -5.0, 9.0],\n",
        "  [4.0, 2.0, 3.0, 9.0],                \n",
        "  [1.0, 5.0, 6.0, 3.0],                \n",
        "\n",
        "])\n",
        "t = 30.0"
      ],
      "execution_count": 6,
      "outputs": []
    },
    {
      "cell_type": "code",
      "metadata": {
        "id": "NpI71-FlXriu"
      },
      "source": [
        "with tf.GradientTape() as tape:\n",
        "  a = tf.nn.max_pool2d(tf.reshape(x, (1, 4, 4, 1)), ksize=2, strides=2, padding=\"VALID\")\n",
        "  b = tf.reduce_sum(a)\n",
        "  error = 0.5 * (b - t) ** 2"
      ],
      "execution_count": 7,
      "outputs": []
    },
    {
      "cell_type": "code",
      "metadata": {
        "id": "W3wfJpkmZkig",
        "outputId": "8a5aedbc-5fe3-4f27-f38b-954cf4b6ec03",
        "colab": {
          "base_uri": "https://localhost:8080/"
        }
      },
      "source": [
        "a"
      ],
      "execution_count": 8,
      "outputs": [
        {
          "output_type": "execute_result",
          "data": {
            "text/plain": [
              "<tf.Tensor: shape=(1, 2, 2, 1), dtype=float32, numpy=\n",
              "array([[[[3.],\n",
              "         [9.]],\n",
              "\n",
              "        [[5.],\n",
              "         [9.]]]], dtype=float32)>"
            ]
          },
          "metadata": {
            "tags": []
          },
          "execution_count": 8
        }
      ]
    },
    {
      "cell_type": "code",
      "metadata": {
        "id": "zjAZqAzjX8Gi",
        "outputId": "1a478827-9588-4d1e-8a8a-2c4667eccaa1",
        "colab": {
          "base_uri": "https://localhost:8080/"
        }
      },
      "source": [
        "error"
      ],
      "execution_count": 9,
      "outputs": [
        {
          "output_type": "execute_result",
          "data": {
            "text/plain": [
              "<tf.Tensor: shape=(), dtype=float32, numpy=8.0>"
            ]
          },
          "metadata": {
            "tags": []
          },
          "execution_count": 9
        }
      ]
    },
    {
      "cell_type": "code",
      "metadata": {
        "id": "0JqbjqVEYMta",
        "outputId": "22aab8f5-b3f8-4c41-c5aa-466ae880f672",
        "colab": {
          "base_uri": "https://localhost:8080/"
        }
      },
      "source": [
        "tape.gradient(error, [b, x])"
      ],
      "execution_count": 10,
      "outputs": [
        {
          "output_type": "execute_result",
          "data": {
            "text/plain": [
              "[<tf.Tensor: shape=(), dtype=float32, numpy=-4.0>,\n",
              " <tf.Tensor: shape=(4, 4), dtype=float32, numpy=\n",
              " array([[ 0.,  0.,  0.,  0.],\n",
              "        [ 0., -4.,  0., -4.],\n",
              "        [ 0.,  0.,  0., -4.],\n",
              "        [ 0., -4.,  0.,  0.]], dtype=float32)>]"
            ]
          },
          "metadata": {
            "tags": []
          },
          "execution_count": 10
        }
      ]
    },
    {
      "cell_type": "code",
      "metadata": {
        "id": "eCnQlVd404H7"
      },
      "source": [
        ""
      ],
      "execution_count": null,
      "outputs": []
    }
  ]
}