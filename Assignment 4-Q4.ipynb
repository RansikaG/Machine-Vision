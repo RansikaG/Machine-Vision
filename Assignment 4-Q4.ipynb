{
  "nbformat": 4,
  "nbformat_minor": 0,
  "metadata": {
    "colab": {
      "name": "Q4.ipynb",
      "provenance": []
    },
    "kernelspec": {
      "name": "python3",
      "display_name": "Python 3"
    },
    "language_info": {
      "name": "python"
    }
  },
  "cells": [
    {
      "cell_type": "code",
      "metadata": {
        "colab": {
          "base_uri": "https://localhost:8080/"
        },
        "id": "3-tCHF_4o2RH",
        "outputId": "761283c8-20f2-4673-fdaa-90a374b79fa4"
      },
      "source": [
        "import tensorflow as tf\n",
        "from tensorflow import keras\n",
        "import numpy as np\n",
        "import matplotlib.pyplot as plt\n",
        "(x_train, y_train), (x_test, y_test) = keras.datasets.cifar10.load_data()\n",
        "print('x_train:' , x_train.shape)\n",
        "H=200#no of hidden layers\n",
        "K = len(np.unique(y_train)) # Classes\n",
        "Ntr = x_train.shape[0]\n",
        "Nte = x_test.shape[0]\n",
        "Din = 3072 # CIFAR10\n",
        "# Din = 784 # MINIST\n",
        "# Normalize pixel values\n",
        "x_train,x_test=x_train/255.0,x_test/255.0\n",
        "\n",
        "mean_image = np.mean(x_train, axis=0)\n",
        "x_train = x_train - mean_image\n",
        "x_test = x_test - mean_image\n",
        "\n",
        "y_train = tf.keras.utils.to_categorical(y_train, num_classes=K)\n",
        "y_test = tf.keras.utils.to_categorical(y_test, num_classes=K)\n"
      ],
      "execution_count": 1,
      "outputs": [
        {
          "output_type": "stream",
          "text": [
            "Downloading data from https://www.cs.toronto.edu/~kriz/cifar-10-python.tar.gz\n",
            "170500096/170498071 [==============================] - 4s 0us/step\n",
            "x_train: (50000, 32, 32, 3)\n"
          ],
          "name": "stdout"
        }
      ]
    },
    {
      "cell_type": "code",
      "metadata": {
        "id": "qO236qsGbfqV",
        "colab": {
          "base_uri": "https://localhost:8080/"
        },
        "outputId": "ae068e87-a055-4260-b9e7-02a19e8e2284"
      },
      "source": [
        "import keras\n",
        "from keras.models import Sequential\n",
        "from keras.layers import Conv2D, MaxPooling2D,Flatten,Dense\n",
        "from keras.optimizers import SGD\n",
        "from keras.regularizers import l2\n",
        "\n",
        "model = Sequential()\n",
        "model.add(Conv2D(32, (3, 3),kernel_regularizer=l2(0.002),bias_regularizer=l2(0.002), activation='relu', input_shape=(32, 32, 3)))\n",
        "model.add(MaxPooling2D(pool_size=(2, 2)))\n",
        "model.add(Conv2D(64, (3, 3),kernel_regularizer=l2(0.002),bias_regularizer=l2(0.002), activation='relu'))\n",
        "model.add(MaxPooling2D(pool_size=(2, 2)))\n",
        "model.add(Conv2D(64, (3, 3),kernel_regularizer=l2(0.002),bias_regularizer=l2(0.002), activation='relu'))\n",
        "model.add(MaxPooling2D(pool_size=(2, 2)))\n",
        "model.add(Flatten())\n",
        "model.add(Dense(64,kernel_regularizer=l2(0.002),bias_regularizer=l2(0.002), activation='relu'))\n",
        "model.add(Dense(10,kernel_regularizer=l2(0.002),bias_regularizer=l2(0.002), activation='softmax'))\n",
        "model.summary()"
      ],
      "execution_count": 11,
      "outputs": [
        {
          "output_type": "stream",
          "text": [
            "Model: \"sequential_3\"\n",
            "_________________________________________________________________\n",
            "Layer (type)                 Output Shape              Param #   \n",
            "=================================================================\n",
            "conv2d_9 (Conv2D)            (None, 30, 30, 32)        896       \n",
            "_________________________________________________________________\n",
            "max_pooling2d_9 (MaxPooling2 (None, 15, 15, 32)        0         \n",
            "_________________________________________________________________\n",
            "conv2d_10 (Conv2D)           (None, 13, 13, 64)        18496     \n",
            "_________________________________________________________________\n",
            "max_pooling2d_10 (MaxPooling (None, 6, 6, 64)          0         \n",
            "_________________________________________________________________\n",
            "conv2d_11 (Conv2D)           (None, 4, 4, 64)          36928     \n",
            "_________________________________________________________________\n",
            "max_pooling2d_11 (MaxPooling (None, 2, 2, 64)          0         \n",
            "_________________________________________________________________\n",
            "flatten_3 (Flatten)          (None, 256)               0         \n",
            "_________________________________________________________________\n",
            "dense_6 (Dense)              (None, 64)                16448     \n",
            "_________________________________________________________________\n",
            "dense_7 (Dense)              (None, 10)                650       \n",
            "=================================================================\n",
            "Total params: 73,418\n",
            "Trainable params: 73,418\n",
            "Non-trainable params: 0\n",
            "_________________________________________________________________\n"
          ],
          "name": "stdout"
        }
      ]
    },
    {
      "cell_type": "code",
      "metadata": {
        "colab": {
          "base_uri": "https://localhost:8080/"
        },
        "id": "4gRCeK4m_Fpd",
        "outputId": "6b580a0c-75ab-45b4-c140-9629281f5066"
      },
      "source": [
        "sgd = SGD(lr=0.01, decay=1e-7, momentum=0.8)\n",
        "model.compile(loss='categorical_crossentropy', optimizer=sgd,metrics=['accuracy'])\n",
        "fitting=model.fit(x_train, y_train, batch_size=50, epochs=25,validation_data=(x_test, y_test))"
      ],
      "execution_count": 12,
      "outputs": [
        {
          "output_type": "stream",
          "text": [
            "Epoch 1/25\n",
            "1000/1000 [==============================] - 67s 67ms/step - loss: 2.4521 - accuracy: 0.2595 - val_loss: 1.9252 - val_accuracy: 0.4297\n",
            "Epoch 2/25\n",
            "1000/1000 [==============================] - 67s 67ms/step - loss: 1.8070 - accuracy: 0.4775 - val_loss: 1.6374 - val_accuracy: 0.5296\n",
            "Epoch 3/25\n",
            "1000/1000 [==============================] - 73s 73ms/step - loss: 1.5950 - accuracy: 0.5399 - val_loss: 1.5036 - val_accuracy: 0.5632\n",
            "Epoch 4/25\n",
            "1000/1000 [==============================] - 66s 66ms/step - loss: 1.4717 - accuracy: 0.5797 - val_loss: 1.4313 - val_accuracy: 0.5910\n",
            "Epoch 5/25\n",
            "1000/1000 [==============================] - 66s 66ms/step - loss: 1.3868 - accuracy: 0.6090 - val_loss: 1.3964 - val_accuracy: 0.6045\n",
            "Epoch 6/25\n",
            "1000/1000 [==============================] - 66s 66ms/step - loss: 1.3111 - accuracy: 0.6329 - val_loss: 1.3527 - val_accuracy: 0.6261\n",
            "Epoch 7/25\n",
            "1000/1000 [==============================] - 67s 67ms/step - loss: 1.2743 - accuracy: 0.6509 - val_loss: 1.2961 - val_accuracy: 0.6507\n",
            "Epoch 8/25\n",
            "1000/1000 [==============================] - 67s 67ms/step - loss: 1.2330 - accuracy: 0.6707 - val_loss: 1.2592 - val_accuracy: 0.6613\n",
            "Epoch 9/25\n",
            "1000/1000 [==============================] - 67s 67ms/step - loss: 1.2083 - accuracy: 0.6802 - val_loss: 1.2748 - val_accuracy: 0.6604\n",
            "Epoch 10/25\n",
            "1000/1000 [==============================] - 67s 67ms/step - loss: 1.1948 - accuracy: 0.6894 - val_loss: 1.2727 - val_accuracy: 0.6586\n",
            "Epoch 11/25\n",
            "1000/1000 [==============================] - 67s 67ms/step - loss: 1.1756 - accuracy: 0.6980 - val_loss: 1.2474 - val_accuracy: 0.6785\n",
            "Epoch 12/25\n",
            "1000/1000 [==============================] - 67s 67ms/step - loss: 1.1584 - accuracy: 0.7058 - val_loss: 1.2233 - val_accuracy: 0.6835\n",
            "Epoch 13/25\n",
            "1000/1000 [==============================] - 66s 66ms/step - loss: 1.1478 - accuracy: 0.7138 - val_loss: 1.2660 - val_accuracy: 0.6734\n",
            "Epoch 14/25\n",
            "1000/1000 [==============================] - 66s 66ms/step - loss: 1.1424 - accuracy: 0.7193 - val_loss: 1.2142 - val_accuracy: 0.6955\n",
            "Epoch 15/25\n",
            "1000/1000 [==============================] - 67s 67ms/step - loss: 1.1335 - accuracy: 0.7253 - val_loss: 1.2336 - val_accuracy: 0.6922\n",
            "Epoch 16/25\n",
            "1000/1000 [==============================] - 67s 67ms/step - loss: 1.1239 - accuracy: 0.7299 - val_loss: 1.2115 - val_accuracy: 0.7058\n",
            "Epoch 17/25\n",
            "1000/1000 [==============================] - 67s 67ms/step - loss: 1.1300 - accuracy: 0.7280 - val_loss: 1.2109 - val_accuracy: 0.6983\n",
            "Epoch 18/25\n",
            "1000/1000 [==============================] - 66s 66ms/step - loss: 1.1169 - accuracy: 0.7371 - val_loss: 1.2341 - val_accuracy: 0.6960\n",
            "Epoch 19/25\n",
            "1000/1000 [==============================] - 66s 66ms/step - loss: 1.1072 - accuracy: 0.7414 - val_loss: 1.1986 - val_accuracy: 0.7079\n",
            "Epoch 20/25\n",
            "1000/1000 [==============================] - 66s 66ms/step - loss: 1.1064 - accuracy: 0.7420 - val_loss: 1.3050 - val_accuracy: 0.6703\n",
            "Epoch 21/25\n",
            "1000/1000 [==============================] - 66s 66ms/step - loss: 1.0981 - accuracy: 0.7486 - val_loss: 1.2181 - val_accuracy: 0.7050\n",
            "Epoch 22/25\n",
            "1000/1000 [==============================] - 67s 67ms/step - loss: 1.0833 - accuracy: 0.7553 - val_loss: 1.1890 - val_accuracy: 0.7234\n",
            "Epoch 23/25\n",
            "1000/1000 [==============================] - 67s 67ms/step - loss: 1.1007 - accuracy: 0.7514 - val_loss: 1.2056 - val_accuracy: 0.7180\n",
            "Epoch 24/25\n",
            "1000/1000 [==============================] - 66s 67ms/step - loss: 1.0907 - accuracy: 0.7571 - val_loss: 1.1804 - val_accuracy: 0.7273\n",
            "Epoch 25/25\n",
            "1000/1000 [==============================] - 67s 67ms/step - loss: 1.0848 - accuracy: 0.7573 - val_loss: 1.2472 - val_accuracy: 0.7088\n"
          ],
          "name": "stdout"
        }
      ]
    },
    {
      "cell_type": "code",
      "metadata": {
        "id": "34b3eMEDbhsj",
        "colab": {
          "base_uri": "https://localhost:8080/",
          "height": 590
        },
        "outputId": "6c4a4bfd-ebb9-4c0f-efd4-812d06c92dc8"
      },
      "source": [
        "print(fitting.history.keys())\n",
        "plt.plot(fitting.history['accuracy'])\n",
        "plt.plot(fitting.history['val_accuracy'])\n",
        "plt.title('model accuracy')\n",
        "plt.ylabel('accuracy')\n",
        "plt.xlabel('epoch')\n",
        "plt.legend(['train', 'test'], loc='upper left')\n",
        "plt.show()\n",
        "# summarize history for loss\n",
        "plt.plot(fitting.history['loss'])\n",
        "plt.plot(fitting.history['val_loss'])\n",
        "plt.title('model loss')\n",
        "plt.ylabel('loss')\n",
        "plt.xlabel('epoch')\n",
        "plt.legend(['train', 'test'], loc='upper left')\n",
        "plt.show()"
      ],
      "execution_count": 13,
      "outputs": [
        {
          "output_type": "stream",
          "text": [
            "dict_keys(['loss', 'accuracy', 'val_loss', 'val_accuracy'])\n"
          ],
          "name": "stdout"
        },
        {
          "output_type": "display_data",
          "data": {
            "image/png": "[encoded data removed]",
            "text/plain": [
              "<Figure size 432x288 with 1 Axes>"
            ]
          },
          "metadata": {
            "tags": [],
            "needs_background": "light"
          }
        },
        {
          "output_type": "display_data",
          "data": {
            "image/png": "[encoded data removed]",
            "text/plain": [
              "<Figure size 432x288 with 1 Axes>"
            ]
          },
          "metadata": {
            "tags": [],
            "needs_background": "light"
          }
        }
      ]
    }
  ]
}