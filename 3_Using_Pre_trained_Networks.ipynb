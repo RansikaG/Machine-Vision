{
  "nbformat": 4,
  "nbformat_minor": 0,
  "metadata": {
    "accelerator": "GPU",
    "colab": {
      "name": "3 - Using Pre-trained Networks.ipynb",
      "provenance": [],
      "collapsed_sections": [],
      "include_colab_link": true
    },
    "kernelspec": {
      "display_name": "Python 3",
      "name": "python3"
    },
    "language_info": {
      "name": "python"
    }
  },
  "cells": [
    {
      "cell_type": "markdown",
      "metadata": {
        "id": "view-in-github",
        "colab_type": "text"
      },
      "source": [
        "<a href=\"https://colab.research.google.com/github/RansikaG/EN2550---Machine-Vision/blob/main/3_Using_Pre_trained_Networks.ipynb\" target=\"_parent\"><img src=\"https://colab.research.google.com/assets/colab-badge.svg\" alt=\"Open In Colab\"/></a>"
      ]
    },
    {
      "cell_type": "code",
      "metadata": {
        "id": "DHYrQ9-7iR7N"
      },
      "source": [
        "import os\n",
        "import datetime\n",
        "import numpy as np\n",
        "import tensorflow as tf\n",
        "import tensorflow_datasets as tfds\n",
        "from matplotlib import pyplot as plt\n",
        "from tensorflow.keras import layers\n",
        "from PIL import Image"
      ],
      "execution_count": null,
      "outputs": []
    },
    {
      "cell_type": "code",
      "metadata": {
        "id": "m6oFVjFmia1x"
      },
      "source": [
        "network = tf.keras.applications.resnet50.ResNet50(weights='imagenet')"
      ],
      "execution_count": null,
      "outputs": []
    },
    {
      "cell_type": "code",
      "metadata": {
        "id": "hlwyoYsiils-"
      },
      "source": [
        "path_to_file = tf.keras.utils.get_file('image.jpg', 'https://vetstreet.brightspotcdn.com/dims4/default/7cc218c/2147483647/thumbnail/645x380/quality/90/?url=https%3A%2F%2Fvetstreet-brightspot.s3.amazonaws.com%2Fa5%2F69%2Fe639b7ab40c2a290e3296de726d8%2FPersian-AP-PIFN6J-645sm3614.jpg')\n",
        "img = Image.open(path_to_file)\n",
        "im = np.array(img)"
      ],
      "execution_count": null,
      "outputs": []
    },
    {
      "cell_type": "code",
      "metadata": {
        "id": "OLlLzUyyioWW"
      },
      "source": [
        "plt.imshow(im)"
      ],
      "execution_count": null,
      "outputs": []
    },
    {
      "cell_type": "code",
      "metadata": {
        "id": "rNwScniPlMwY"
      },
      "source": [
        "im.shape"
      ],
      "execution_count": null,
      "outputs": []
    },
    {
      "cell_type": "code",
      "metadata": {
        "id": "APVUd9SFi0v-"
      },
      "source": [
        "i, j = 100, 300\n",
        "cropped_im = im[i:i + 224, j:j + 224, :]"
      ],
      "execution_count": null,
      "outputs": []
    },
    {
      "cell_type": "code",
      "metadata": {
        "id": "ovn3Pwvjkw4O"
      },
      "source": [
        "plt.imshow(cropped_im)"
      ],
      "execution_count": null,
      "outputs": []
    },
    {
      "cell_type": "code",
      "metadata": {
        "id": "fNS6fzagi36n"
      },
      "source": [
        "processed_im = tf.keras.applications.resnet50.preprocess_input(tf.cast(cropped_im, tf.float32))"
      ],
      "execution_count": null,
      "outputs": []
    },
    {
      "cell_type": "code",
      "metadata": {
        "id": "oITD3EQci86f"
      },
      "source": [
        "probs = network(processed_im[np.newaxis, ...])"
      ],
      "execution_count": null,
      "outputs": []
    },
    {
      "cell_type": "code",
      "metadata": {
        "id": "q9Y17w2zjGlP"
      },
      "source": [
        "np.argmax(probs)"
      ],
      "execution_count": null,
      "outputs": []
    },
    {
      "cell_type": "code",
      "metadata": {
        "id": "mH373Gs-jOFH"
      },
      "source": [
        "network.layers"
      ],
      "execution_count": null,
      "outputs": []
    },
    {
      "cell_type": "code",
      "metadata": {
        "id": "4tP3hRlCjpGO"
      },
      "source": [
        "feature_extractor = tf.keras.Model(inputs=network.input, outputs=network.layers[-2].output)"
      ],
      "execution_count": null,
      "outputs": []
    },
    {
      "cell_type": "code",
      "metadata": {
        "id": "4-XoJ_844Vl5"
      },
      "source": [
        "out = feature_extractor(processed_im[np.newaxis, ...])"
      ],
      "execution_count": null,
      "outputs": []
    },
    {
      "cell_type": "code",
      "metadata": {
        "id": "m2kvWh7q4dJh"
      },
      "source": [
        "out.shape"
      ],
      "execution_count": null,
      "outputs": []
    },
    {
      "cell_type": "code",
      "metadata": {
        "id": "j6ek_-M44h8n"
      },
      "source": [
        "(x, y), (x_test, y_test) = tf.keras.datasets.cifar10.load_data()"
      ],
      "execution_count": null,
      "outputs": []
    },
    {
      "cell_type": "code",
      "metadata": {
        "id": "oB0r8cAe4qXA"
      },
      "source": [
        "x_train, y_train = x[:200], y[:200]\n",
        "x_test, y_test = x_test[:100], y_test[:100]"
      ],
      "execution_count": null,
      "outputs": []
    },
    {
      "cell_type": "code",
      "metadata": {
        "id": "8TGxkU7t5JdY"
      },
      "source": [
        "def get_embeddings(x):\n",
        "  all_embs = []\n",
        "  for im in x:\n",
        "    im = tf.image.resize(im, size=(224, 224))\n",
        "    im = tf.keras.applications.resnet50.preprocess_input(tf.cast(im, tf.float32))\n",
        "    embedding = feature_extractor(im[np.newaxis, ...])\n",
        "    all_embs.append(embedding.numpy()[0])\n",
        "\n",
        "  return np.array(all_embs)"
      ],
      "execution_count": null,
      "outputs": []
    },
    {
      "cell_type": "code",
      "metadata": {
        "id": "vv5oD_7-5MlH"
      },
      "source": [
        "train_embeddings = get_embeddings(x_train)"
      ],
      "execution_count": null,
      "outputs": []
    },
    {
      "cell_type": "code",
      "metadata": {
        "id": "XJ7IhiGS_ZW9"
      },
      "source": [
        "test_embeddings = get_embeddings(x_test)"
      ],
      "execution_count": null,
      "outputs": []
    },
    {
      "cell_type": "code",
      "metadata": {
        "id": "GLTwiWxhS74C"
      },
      "source": [
        "train_embeddings.shape"
      ],
      "execution_count": null,
      "outputs": []
    },
    {
      "cell_type": "code",
      "metadata": {
        "id": "EPfalnq6UgEe"
      },
      "source": [
        "test_embeddings.shape"
      ],
      "execution_count": null,
      "outputs": []
    },
    {
      "cell_type": "code",
      "metadata": {
        "id": "EV137KsEUh1F"
      },
      "source": [
        ""
      ],
      "execution_count": null,
      "outputs": []
    }
  ]
}